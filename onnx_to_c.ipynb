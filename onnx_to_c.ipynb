{
 "cells": [
  {
   "cell_type": "code",
   "execution_count": 1,
   "metadata": {},
   "outputs": [
    {
     "name": "stdout",
     "output_type": "stream",
     "text": [
      "Defaulting to user installation because normal site-packages is not writeable\n",
      "Requirement already satisfied: jupyter in /home/otto/.local/lib/python3.10/site-packages (from -r requirements.txt (line 2)) (1.0.0)\n",
      "Requirement already satisfied: jupyterlab in /home/otto/.local/lib/python3.10/site-packages (from -r requirements.txt (line 3)) (4.1.5)\n",
      "Requirement already satisfied: numpy in /home/otto/.local/lib/python3.10/site-packages (from -r requirements.txt (line 5)) (1.24.2)\n",
      "Requirement already satisfied: onnxruntime in /home/otto/.local/lib/python3.10/site-packages (from -r requirements.txt (line 6)) (1.17.1)\n",
      "Requirement already satisfied: apache-tvm==0.11.1 in /home/otto/.local/lib/python3.10/site-packages (from -r requirements.txt (line 7)) (0.11.1)\n",
      "Requirement already satisfied: typing_extensions in /home/otto/.local/lib/python3.10/site-packages (from -r requirements.txt (line 8)) (4.10.0)\n",
      "Requirement already satisfied: onnx in /home/otto/.local/lib/python3.10/site-packages (from -r requirements.txt (line 9)) (1.15.0)\n",
      "Requirement already satisfied: onnxoptimizer in /home/otto/.local/lib/python3.10/site-packages (from -r requirements.txt (line 10)) (0.3.13)\n",
      "Requirement already satisfied: cloudpickle in /home/otto/.local/lib/python3.10/site-packages (from apache-tvm==0.11.1->-r requirements.txt (line 7)) (3.0.0)\n",
      "Requirement already satisfied: decorator in /home/otto/.local/lib/python3.10/site-packages (from apache-tvm==0.11.1->-r requirements.txt (line 7)) (5.1.1)\n",
      "Requirement already satisfied: synr==0.6.0 in /home/otto/.local/lib/python3.10/site-packages (from apache-tvm==0.11.1->-r requirements.txt (line 7)) (0.6.0)\n",
      "Requirement already satisfied: tornado in /home/otto/.local/lib/python3.10/site-packages (from apache-tvm==0.11.1->-r requirements.txt (line 7)) (6.3.1)\n",
      "Requirement already satisfied: psutil in /home/otto/.local/lib/python3.10/site-packages (from apache-tvm==0.11.1->-r requirements.txt (line 7)) (5.9.5)\n",
      "Requirement already satisfied: attrs in /home/otto/.local/lib/python3.10/site-packages (from apache-tvm==0.11.1->-r requirements.txt (line 7)) (23.1.0)\n",
      "Requirement already satisfied: scipy in /usr/lib/python3/dist-packages (from apache-tvm==0.11.1->-r requirements.txt (line 7)) (1.8.0)\n",
      "Requirement already satisfied: jupyter-console in /home/otto/.local/lib/python3.10/site-packages (from jupyter->-r requirements.txt (line 2)) (6.6.3)\n",
      "Requirement already satisfied: notebook in /home/otto/.local/lib/python3.10/site-packages (from jupyter->-r requirements.txt (line 2)) (6.5.4)\n",
      "Requirement already satisfied: nbconvert in /home/otto/.local/lib/python3.10/site-packages (from jupyter->-r requirements.txt (line 2)) (7.3.1)\n",
      "Requirement already satisfied: qtconsole in /home/otto/.local/lib/python3.10/site-packages (from jupyter->-r requirements.txt (line 2)) (5.4.2)\n",
      "Requirement already satisfied: ipykernel in /home/otto/.local/lib/python3.10/site-packages (from jupyter->-r requirements.txt (line 2)) (6.22.0)\n",
      "Requirement already satisfied: ipywidgets in /home/otto/.local/lib/python3.10/site-packages (from jupyter->-r requirements.txt (line 2)) (8.0.6)\n",
      "Requirement already satisfied: httpx>=0.25.0 in /home/otto/.local/lib/python3.10/site-packages (from jupyterlab->-r requirements.txt (line 3)) (0.27.0)\n",
      "Requirement already satisfied: traitlets in /home/otto/.local/lib/python3.10/site-packages (from jupyterlab->-r requirements.txt (line 3)) (5.9.0)\n",
      "Requirement already satisfied: tomli in /home/otto/.local/lib/python3.10/site-packages (from jupyterlab->-r requirements.txt (line 3)) (2.0.1)\n",
      "Requirement already satisfied: jupyter-server<3,>=2.4.0 in /home/otto/.local/lib/python3.10/site-packages (from jupyterlab->-r requirements.txt (line 3)) (2.5.0)\n",
      "Requirement already satisfied: jupyter-lsp>=2.0.0 in /home/otto/.local/lib/python3.10/site-packages (from jupyterlab->-r requirements.txt (line 3)) (2.2.4)\n",
      "Requirement already satisfied: jinja2>=3.0.3 in /home/otto/.local/lib/python3.10/site-packages (from jupyterlab->-r requirements.txt (line 3)) (3.1.2)\n",
      "Requirement already satisfied: async-lru>=1.0.0 in /home/otto/.local/lib/python3.10/site-packages (from jupyterlab->-r requirements.txt (line 3)) (2.0.4)\n",
      "Requirement already satisfied: jupyterlab-server<3,>=2.19.0 in /home/otto/.local/lib/python3.10/site-packages (from jupyterlab->-r requirements.txt (line 3)) (2.25.4)\n",
      "Requirement already satisfied: jupyter-core in /home/otto/.local/lib/python3.10/site-packages (from jupyterlab->-r requirements.txt (line 3)) (5.3.0)\n",
      "Requirement already satisfied: packaging in /home/otto/.local/lib/python3.10/site-packages (from jupyterlab->-r requirements.txt (line 3)) (23.1)\n",
      "Requirement already satisfied: notebook-shim>=0.2 in /home/otto/.local/lib/python3.10/site-packages (from jupyterlab->-r requirements.txt (line 3)) (0.2.3)\n",
      "Requirement already satisfied: protobuf in /home/otto/.local/lib/python3.10/site-packages (from onnxruntime->-r requirements.txt (line 6)) (5.26.0)\n",
      "Requirement already satisfied: coloredlogs in /home/otto/.local/lib/python3.10/site-packages (from onnxruntime->-r requirements.txt (line 6)) (15.0.1)\n",
      "Requirement already satisfied: flatbuffers in /home/otto/.local/lib/python3.10/site-packages (from onnxruntime->-r requirements.txt (line 6)) (24.3.25)\n",
      "Requirement already satisfied: sympy in /home/otto/.local/lib/python3.10/site-packages (from onnxruntime->-r requirements.txt (line 6)) (1.11.1)\n",
      "Requirement already satisfied: httpcore==1.* in /home/otto/.local/lib/python3.10/site-packages (from httpx>=0.25.0->jupyterlab->-r requirements.txt (line 3)) (1.0.5)\n",
      "Requirement already satisfied: anyio in /home/otto/.local/lib/python3.10/site-packages (from httpx>=0.25.0->jupyterlab->-r requirements.txt (line 3)) (3.6.2)\n",
      "Requirement already satisfied: idna in /usr/lib/python3/dist-packages (from httpx>=0.25.0->jupyterlab->-r requirements.txt (line 3)) (3.3)\n",
      "Requirement already satisfied: certifi in /usr/lib/python3/dist-packages (from httpx>=0.25.0->jupyterlab->-r requirements.txt (line 3)) (2020.6.20)\n",
      "Requirement already satisfied: sniffio in /home/otto/.local/lib/python3.10/site-packages (from httpx>=0.25.0->jupyterlab->-r requirements.txt (line 3)) (1.3.0)\n",
      "Requirement already satisfied: h11<0.15,>=0.13 in /home/otto/.local/lib/python3.10/site-packages (from httpcore==1.*->httpx>=0.25.0->jupyterlab->-r requirements.txt (line 3)) (0.14.0)\n",
      "Requirement already satisfied: MarkupSafe>=2.0 in /usr/lib/python3/dist-packages (from jinja2>=3.0.3->jupyterlab->-r requirements.txt (line 3)) (2.0.1)\n",
      "Requirement already satisfied: prometheus-client in /home/otto/.local/lib/python3.10/site-packages (from jupyter-server<3,>=2.4.0->jupyterlab->-r requirements.txt (line 3)) (0.16.0)\n",
      "Requirement already satisfied: jupyter-server-terminals in /home/otto/.local/lib/python3.10/site-packages (from jupyter-server<3,>=2.4.0->jupyterlab->-r requirements.txt (line 3)) (0.4.4)\n",
      "Requirement already satisfied: websocket-client in /home/otto/.local/lib/python3.10/site-packages (from jupyter-server<3,>=2.4.0->jupyterlab->-r requirements.txt (line 3)) (1.5.1)\n",
      "Requirement already satisfied: jupyter-events>=0.4.0 in /home/otto/.local/lib/python3.10/site-packages (from jupyter-server<3,>=2.4.0->jupyterlab->-r requirements.txt (line 3)) (0.6.3)\n",
      "Requirement already satisfied: nbformat>=5.3.0 in /home/otto/.local/lib/python3.10/site-packages (from jupyter-server<3,>=2.4.0->jupyterlab->-r requirements.txt (line 3)) (5.8.0)\n",
      "Requirement already satisfied: send2trash in /home/otto/.local/lib/python3.10/site-packages (from jupyter-server<3,>=2.4.0->jupyterlab->-r requirements.txt (line 3)) (1.8.2)\n",
      "Requirement already satisfied: argon2-cffi in /home/otto/.local/lib/python3.10/site-packages (from jupyter-server<3,>=2.4.0->jupyterlab->-r requirements.txt (line 3)) (21.3.0)\n",
      "Requirement already satisfied: terminado>=0.8.3 in /home/otto/.local/lib/python3.10/site-packages (from jupyter-server<3,>=2.4.0->jupyterlab->-r requirements.txt (line 3)) (0.17.1)\n",
      "Requirement already satisfied: jupyter-client>=7.4.4 in /home/otto/.local/lib/python3.10/site-packages (from jupyter-server<3,>=2.4.0->jupyterlab->-r requirements.txt (line 3)) (8.2.0)\n",
      "Requirement already satisfied: pyzmq>=24 in /home/otto/.local/lib/python3.10/site-packages (from jupyter-server<3,>=2.4.0->jupyterlab->-r requirements.txt (line 3)) (25.0.2)\n",
      "Requirement already satisfied: platformdirs>=2.5 in /home/otto/.local/lib/python3.10/site-packages (from jupyter-core->jupyterlab->-r requirements.txt (line 3)) (3.11.0)\n",
      "Requirement already satisfied: jsonschema>=4.18.0 in /home/otto/.local/lib/python3.10/site-packages (from jupyterlab-server<3,>=2.19.0->jupyterlab->-r requirements.txt (line 3)) (4.21.1)\n",
      "Requirement already satisfied: requests>=2.31 in /home/otto/.local/lib/python3.10/site-packages (from jupyterlab-server<3,>=2.19.0->jupyterlab->-r requirements.txt (line 3)) (2.31.0)\n",
      "Requirement already satisfied: babel>=2.10 in /home/otto/.local/lib/python3.10/site-packages (from jupyterlab-server<3,>=2.19.0->jupyterlab->-r requirements.txt (line 3)) (2.14.0)\n",
      "Requirement already satisfied: json5>=0.9.0 in /home/otto/.local/lib/python3.10/site-packages (from jupyterlab-server<3,>=2.19.0->jupyterlab->-r requirements.txt (line 3)) (0.9.24)\n",
      "Requirement already satisfied: pandocfilters>=1.4.1 in /home/otto/.local/lib/python3.10/site-packages (from nbconvert->jupyter->-r requirements.txt (line 2)) (1.5.0)\n",
      "Requirement already satisfied: jupyterlab-pygments in /home/otto/.local/lib/python3.10/site-packages (from nbconvert->jupyter->-r requirements.txt (line 2)) (0.2.2)\n",
      "Requirement already satisfied: beautifulsoup4 in /home/otto/.local/lib/python3.10/site-packages (from nbconvert->jupyter->-r requirements.txt (line 2)) (4.12.2)\n",
      "Requirement already satisfied: bleach in /home/otto/.local/lib/python3.10/site-packages (from nbconvert->jupyter->-r requirements.txt (line 2)) (6.0.0)\n",
      "Requirement already satisfied: nbclient>=0.5.0 in /home/otto/.local/lib/python3.10/site-packages (from nbconvert->jupyter->-r requirements.txt (line 2)) (0.7.4)\n",
      "Requirement already satisfied: pygments>=2.4.1 in /usr/lib/python3/dist-packages (from nbconvert->jupyter->-r requirements.txt (line 2)) (2.11.2)\n",
      "Requirement already satisfied: defusedxml in /home/otto/.local/lib/python3.10/site-packages (from nbconvert->jupyter->-r requirements.txt (line 2)) (0.7.1)\n",
      "Requirement already satisfied: tinycss2 in /home/otto/.local/lib/python3.10/site-packages (from nbconvert->jupyter->-r requirements.txt (line 2)) (1.2.1)\n",
      "Requirement already satisfied: mistune<3,>=2.0.3 in /home/otto/.local/lib/python3.10/site-packages (from nbconvert->jupyter->-r requirements.txt (line 2)) (2.0.5)\n",
      "Requirement already satisfied: humanfriendly>=9.1 in /home/otto/.local/lib/python3.10/site-packages (from coloredlogs->onnxruntime->-r requirements.txt (line 6)) (10.0)\n",
      "Requirement already satisfied: ipython>=7.23.1 in /home/otto/.local/lib/python3.10/site-packages (from ipykernel->jupyter->-r requirements.txt (line 2)) (8.13.1)\n",
      "Requirement already satisfied: nest-asyncio in /home/otto/.local/lib/python3.10/site-packages (from ipykernel->jupyter->-r requirements.txt (line 2)) (1.5.6)\n",
      "Requirement already satisfied: comm>=0.1.1 in /home/otto/.local/lib/python3.10/site-packages (from ipykernel->jupyter->-r requirements.txt (line 2)) (0.1.3)\n",
      "Requirement already satisfied: debugpy>=1.6.5 in /home/otto/.local/lib/python3.10/site-packages (from ipykernel->jupyter->-r requirements.txt (line 2)) (1.6.7)\n",
      "Requirement already satisfied: matplotlib-inline>=0.1 in /home/otto/.local/lib/python3.10/site-packages (from ipykernel->jupyter->-r requirements.txt (line 2)) (0.1.6)\n",
      "Requirement already satisfied: widgetsnbextension~=4.0.7 in /home/otto/.local/lib/python3.10/site-packages (from ipywidgets->jupyter->-r requirements.txt (line 2)) (4.0.7)\n",
      "Requirement already satisfied: jupyterlab-widgets~=3.0.7 in /home/otto/.local/lib/python3.10/site-packages (from ipywidgets->jupyter->-r requirements.txt (line 2)) (3.0.7)\n",
      "Requirement already satisfied: prompt-toolkit>=3.0.30 in /home/otto/.local/lib/python3.10/site-packages (from jupyter-console->jupyter->-r requirements.txt (line 2)) (3.0.38)\n",
      "Requirement already satisfied: ipython-genutils in /home/otto/.local/lib/python3.10/site-packages (from notebook->jupyter->-r requirements.txt (line 2)) (0.2.0)\n",
      "Requirement already satisfied: nbclassic>=0.4.7 in /home/otto/.local/lib/python3.10/site-packages (from notebook->jupyter->-r requirements.txt (line 2)) (0.5.6)\n",
      "Requirement already satisfied: qtpy>=2.0.1 in /home/otto/.local/lib/python3.10/site-packages (from qtconsole->jupyter->-r requirements.txt (line 2)) (2.3.1)\n",
      "Requirement already satisfied: mpmath>=0.19 in /home/otto/.local/lib/python3.10/site-packages (from sympy->onnxruntime->-r requirements.txt (line 6)) (1.3.0)\n",
      "Requirement already satisfied: pickleshare in /home/otto/.local/lib/python3.10/site-packages (from ipython>=7.23.1->ipykernel->jupyter->-r requirements.txt (line 2)) (0.7.5)\n",
      "Requirement already satisfied: pexpect>4.3 in /usr/lib/python3/dist-packages (from ipython>=7.23.1->ipykernel->jupyter->-r requirements.txt (line 2)) (4.8.0)\n",
      "Requirement already satisfied: stack-data in /home/otto/.local/lib/python3.10/site-packages (from ipython>=7.23.1->ipykernel->jupyter->-r requirements.txt (line 2)) (0.6.2)\n",
      "Requirement already satisfied: jedi>=0.16 in /home/otto/.local/lib/python3.10/site-packages (from ipython>=7.23.1->ipykernel->jupyter->-r requirements.txt (line 2)) (0.18.2)\n",
      "Requirement already satisfied: backcall in /home/otto/.local/lib/python3.10/site-packages (from ipython>=7.23.1->ipykernel->jupyter->-r requirements.txt (line 2)) (0.2.0)\n",
      "Requirement already satisfied: jsonschema-specifications>=2023.03.6 in /home/otto/.local/lib/python3.10/site-packages (from jsonschema>=4.18.0->jupyterlab-server<3,>=2.19.0->jupyterlab->-r requirements.txt (line 3)) (2023.12.1)\n",
      "Requirement already satisfied: referencing>=0.28.4 in /home/otto/.local/lib/python3.10/site-packages (from jsonschema>=4.18.0->jupyterlab-server<3,>=2.19.0->jupyterlab->-r requirements.txt (line 3)) (0.34.0)\n",
      "Requirement already satisfied: rpds-py>=0.7.1 in /home/otto/.local/lib/python3.10/site-packages (from jsonschema>=4.18.0->jupyterlab-server<3,>=2.19.0->jupyterlab->-r requirements.txt (line 3)) (0.18.0)\n",
      "Requirement already satisfied: python-dateutil>=2.8.2 in /home/otto/.local/lib/python3.10/site-packages (from jupyter-client>=7.4.4->jupyter-server<3,>=2.4.0->jupyterlab->-r requirements.txt (line 3)) (2.8.2)\n",
      "Requirement already satisfied: rfc3339-validator in /home/otto/.local/lib/python3.10/site-packages (from jupyter-events>=0.4.0->jupyter-server<3,>=2.4.0->jupyterlab->-r requirements.txt (line 3)) (0.1.4)\n",
      "Requirement already satisfied: python-json-logger>=2.0.4 in /home/otto/.local/lib/python3.10/site-packages (from jupyter-events>=0.4.0->jupyter-server<3,>=2.4.0->jupyterlab->-r requirements.txt (line 3)) (2.0.7)\n",
      "Requirement already satisfied: pyyaml>=5.3 in /usr/lib/python3/dist-packages (from jupyter-events>=0.4.0->jupyter-server<3,>=2.4.0->jupyterlab->-r requirements.txt (line 3)) (5.4.1)\n",
      "Requirement already satisfied: rfc3986-validator>=0.1.1 in /home/otto/.local/lib/python3.10/site-packages (from jupyter-events>=0.4.0->jupyter-server<3,>=2.4.0->jupyterlab->-r requirements.txt (line 3)) (0.1.1)\n",
      "Requirement already satisfied: fastjsonschema in /home/otto/.local/lib/python3.10/site-packages (from nbformat>=5.3.0->jupyter-server<3,>=2.4.0->jupyterlab->-r requirements.txt (line 3)) (2.16.3)\n",
      "Requirement already satisfied: wcwidth in /home/otto/.local/lib/python3.10/site-packages (from prompt-toolkit>=3.0.30->jupyter-console->jupyter->-r requirements.txt (line 2)) (0.2.6)\n",
      "Requirement already satisfied: charset-normalizer<4,>=2 in /home/otto/.local/lib/python3.10/site-packages (from requests>=2.31->jupyterlab-server<3,>=2.19.0->jupyterlab->-r requirements.txt (line 3)) (3.3.2)\n",
      "Requirement already satisfied: urllib3<3,>=1.21.1 in /usr/lib/python3/dist-packages (from requests>=2.31->jupyterlab-server<3,>=2.19.0->jupyterlab->-r requirements.txt (line 3)) (1.26.5)\n",
      "Requirement already satisfied: ptyprocess in /usr/lib/python3/dist-packages (from terminado>=0.8.3->jupyter-server<3,>=2.4.0->jupyterlab->-r requirements.txt (line 3)) (0.7.0)\n",
      "Requirement already satisfied: argon2-cffi-bindings in /home/otto/.local/lib/python3.10/site-packages (from argon2-cffi->jupyter-server<3,>=2.4.0->jupyterlab->-r requirements.txt (line 3)) (21.2.0)\n",
      "Requirement already satisfied: soupsieve>1.2 in /home/otto/.local/lib/python3.10/site-packages (from beautifulsoup4->nbconvert->jupyter->-r requirements.txt (line 2)) (2.4.1)\n",
      "Requirement already satisfied: webencodings in /home/otto/.local/lib/python3.10/site-packages (from bleach->nbconvert->jupyter->-r requirements.txt (line 2)) (0.5.1)\n",
      "Requirement already satisfied: six>=1.9.0 in /usr/lib/python3/dist-packages (from bleach->nbconvert->jupyter->-r requirements.txt (line 2)) (1.16.0)\n",
      "Requirement already satisfied: parso<0.9.0,>=0.8.0 in /home/otto/.local/lib/python3.10/site-packages (from jedi>=0.16->ipython>=7.23.1->ipykernel->jupyter->-r requirements.txt (line 2)) (0.8.3)\n",
      "Requirement already satisfied: fqdn in /home/otto/.local/lib/python3.10/site-packages (from jsonschema>=4.18.0->jupyterlab-server<3,>=2.19.0->jupyterlab->-r requirements.txt (line 3)) (1.5.1)\n",
      "Requirement already satisfied: webcolors>=1.11 in /home/otto/.local/lib/python3.10/site-packages (from jsonschema>=4.18.0->jupyterlab-server<3,>=2.19.0->jupyterlab->-r requirements.txt (line 3)) (1.13)\n",
      "Requirement already satisfied: isoduration in /home/otto/.local/lib/python3.10/site-packages (from jsonschema>=4.18.0->jupyterlab-server<3,>=2.19.0->jupyterlab->-r requirements.txt (line 3)) (20.11.0)\n",
      "Requirement already satisfied: jsonpointer>1.13 in /home/otto/.local/lib/python3.10/site-packages (from jsonschema>=4.18.0->jupyterlab-server<3,>=2.19.0->jupyterlab->-r requirements.txt (line 3)) (2.3)\n",
      "Requirement already satisfied: uri-template in /home/otto/.local/lib/python3.10/site-packages (from jsonschema>=4.18.0->jupyterlab-server<3,>=2.19.0->jupyterlab->-r requirements.txt (line 3)) (1.2.0)\n",
      "Requirement already satisfied: cffi>=1.0.1 in /home/otto/.local/lib/python3.10/site-packages (from argon2-cffi-bindings->argon2-cffi->jupyter-server<3,>=2.4.0->jupyterlab->-r requirements.txt (line 3)) (1.15.1)\n",
      "Requirement already satisfied: executing>=1.2.0 in /home/otto/.local/lib/python3.10/site-packages (from stack-data->ipython>=7.23.1->ipykernel->jupyter->-r requirements.txt (line 2)) (1.2.0)\n",
      "Requirement already satisfied: asttokens>=2.1.0 in /home/otto/.local/lib/python3.10/site-packages (from stack-data->ipython>=7.23.1->ipykernel->jupyter->-r requirements.txt (line 2)) (2.2.1)\n",
      "Requirement already satisfied: pure-eval in /home/otto/.local/lib/python3.10/site-packages (from stack-data->ipython>=7.23.1->ipykernel->jupyter->-r requirements.txt (line 2)) (0.2.2)\n",
      "Requirement already satisfied: pycparser in /home/otto/.local/lib/python3.10/site-packages (from cffi>=1.0.1->argon2-cffi-bindings->argon2-cffi->jupyter-server<3,>=2.4.0->jupyterlab->-r requirements.txt (line 3)) (2.21)\n",
      "Requirement already satisfied: arrow>=0.15.0 in /home/otto/.local/lib/python3.10/site-packages (from isoduration->jsonschema>=4.18.0->jupyterlab-server<3,>=2.19.0->jupyterlab->-r requirements.txt (line 3)) (1.2.3)\n",
      "Note: you may need to restart the kernel to use updated packages.\n"
     ]
    }
   ],
   "source": [
    "#Init enviroment\n",
    "!python3 -m venv OXTC\n",
    "!source OXTC/bin/activate\n",
    "%pip install -r requirements.txt"
   ]
  },
  {
   "cell_type": "code",
   "execution_count": 2,
   "metadata": {},
   "outputs": [
    {
     "name": "stdout",
     "output_type": "stream",
     "text": [
      "Creating model with in_size=5 and out_size=3\n",
      "Model successfully created.\n",
      "Model saved to ./simple_model_5_3.onnx\n",
      "\n",
      "Running the model to get test data\n",
      "Loading model from ./simple_model_5_3.onnx\n",
      "Input x: shape=[1, 5]\n",
      "Output y: shape=[1, 3]\n",
      "Output y_hat: shape=[1, 3]\n",
      "\n",
      "Weights:\n",
      "[[10 -6  9]\n",
      " [-6 -3 -4]\n",
      " [ 0 19  8]\n",
      " [-1  1 17]\n",
      " [ 8  8 -1]]\n",
      "\n",
      "Input:\n",
      "x:\t [[0 0 0 0 0]]\n",
      "\n",
      "Outputs:\n",
      "y:\t [[0 0 0]]\n",
      "y_hat:\t [[0 0 0]]\n"
     ]
    }
   ],
   "source": [
    "#Generate the onnx model\n",
    "%run generate_onnx_model.py"
   ]
  },
  {
   "cell_type": "code",
   "execution_count": 8,
   "metadata": {},
   "outputs": [
    {
     "ename": "ImportError",
     "evalue": "micro tvm is not enabled. Set USE_MICRO to ON in config.cmake",
     "output_type": "error",
     "traceback": [
      "\u001b[0;31m---------------------------------------------------------------------------\u001b[0m",
      "\u001b[0;31mImportError\u001b[0m                               Traceback (most recent call last)",
      "File \u001b[0;32m~/DTU/Special_F24/tvm/python/tvm/micro/session.py:40\u001b[0m\n\u001b[1;32m     39\u001b[0m \u001b[38;5;28;01mtry\u001b[39;00m:\n\u001b[0;32m---> 40\u001b[0m     \u001b[38;5;28;01mfrom\u001b[39;00m \u001b[38;5;21;01m.\u001b[39;00m\u001b[38;5;21;01mbase\u001b[39;00m \u001b[38;5;28;01mimport\u001b[39;00m _rpc_connect\n\u001b[1;32m     41\u001b[0m \u001b[38;5;28;01mexcept\u001b[39;00m \u001b[38;5;167;01mImportError\u001b[39;00m:\n",
      "\u001b[0;31mImportError\u001b[0m: cannot import name '_rpc_connect' from 'tvm.micro.base' (/home/otto/DTU/Special_F24/tvm/python/tvm/micro/base.py)",
      "\nDuring handling of the above exception, another exception occurred:\n",
      "\u001b[0;31mImportError\u001b[0m                               Traceback (most recent call last)",
      "Cell \u001b[0;32mIn[8], line 7\u001b[0m\n\u001b[1;32m      5\u001b[0m \u001b[38;5;28;01mfrom\u001b[39;00m \u001b[38;5;21;01mtvm\u001b[39;00m \u001b[38;5;28;01mimport\u001b[39;00m te\n\u001b[1;32m      6\u001b[0m \u001b[38;5;28;01mimport\u001b[39;00m \u001b[38;5;21;01mtvm\u001b[39;00m\u001b[38;5;21;01m.\u001b[39;00m\u001b[38;5;21;01mrelay\u001b[39;00m \u001b[38;5;28;01mas\u001b[39;00m \u001b[38;5;21;01mrelay\u001b[39;00m\n\u001b[0;32m----> 7\u001b[0m \u001b[38;5;28;01mimport\u001b[39;00m \u001b[38;5;21;01mtvm\u001b[39;00m\u001b[38;5;21;01m.\u001b[39;00m\u001b[38;5;21;01mmicro\u001b[39;00m\n\u001b[1;32m      8\u001b[0m \u001b[38;5;28;01mimport\u001b[39;00m \u001b[38;5;21;01mtvm\u001b[39;00m\u001b[38;5;21;01m.\u001b[39;00m\u001b[38;5;21;01mcontrib\u001b[39;00m\u001b[38;5;21;01m.\u001b[39;00m\u001b[38;5;21;01mutils\u001b[39;00m\n\u001b[1;32m      9\u001b[0m \u001b[38;5;28;01mfrom\u001b[39;00m \u001b[38;5;21;01mtvm\u001b[39;00m\u001b[38;5;21;01m.\u001b[39;00m\u001b[38;5;21;01mmicro\u001b[39;00m \u001b[38;5;28;01mimport\u001b[39;00m export_model_library_format\n",
      "File \u001b[0;32m~/DTU/Special_F24/tvm/python/tvm/micro/__init__.py:29\u001b[0m\n\u001b[1;32m     24\u001b[0m \u001b[38;5;28;01mfrom\u001b[39;00m \u001b[38;5;21;01m.\u001b[39;00m\u001b[38;5;21;01mmodel_library_format\u001b[39;00m \u001b[38;5;28;01mimport\u001b[39;00m (\n\u001b[1;32m     25\u001b[0m     export_model_library_format,\n\u001b[1;32m     26\u001b[0m     UnsupportedInModelLibraryFormatError,\n\u001b[1;32m     27\u001b[0m )\n\u001b[1;32m     28\u001b[0m \u001b[38;5;28;01mfrom\u001b[39;00m \u001b[38;5;21;01m.\u001b[39;00m\u001b[38;5;21;01mproject\u001b[39;00m \u001b[38;5;28;01mimport\u001b[39;00m generate_project, GeneratedProject, TemplateProject\n\u001b[0;32m---> 29\u001b[0m \u001b[38;5;28;01mfrom\u001b[39;00m \u001b[38;5;21;01m.\u001b[39;00m\u001b[38;5;21;01msession\u001b[39;00m \u001b[38;5;28;01mimport\u001b[39;00m (\n\u001b[1;32m     30\u001b[0m     create_local_graph_executor,\n\u001b[1;32m     31\u001b[0m     create_local_debug_executor,\n\u001b[1;32m     32\u001b[0m     create_local_aot_executor,\n\u001b[1;32m     33\u001b[0m     Session,\n\u001b[1;32m     34\u001b[0m     SessionTerminatedError,\n\u001b[1;32m     35\u001b[0m )\n\u001b[1;32m     36\u001b[0m \u001b[38;5;28;01mfrom\u001b[39;00m \u001b[38;5;21;01m.\u001b[39;00m\u001b[38;5;21;01mtransport\u001b[39;00m \u001b[38;5;28;01mimport\u001b[39;00m TransportLogger\n",
      "File \u001b[0;32m~/DTU/Special_F24/tvm/python/tvm/micro/session.py:42\u001b[0m\n\u001b[1;32m     40\u001b[0m     \u001b[38;5;28;01mfrom\u001b[39;00m \u001b[38;5;21;01m.\u001b[39;00m\u001b[38;5;21;01mbase\u001b[39;00m \u001b[38;5;28;01mimport\u001b[39;00m _rpc_connect\n\u001b[1;32m     41\u001b[0m \u001b[38;5;28;01mexcept\u001b[39;00m \u001b[38;5;167;01mImportError\u001b[39;00m:\n\u001b[0;32m---> 42\u001b[0m     \u001b[38;5;28;01mraise\u001b[39;00m \u001b[38;5;167;01mImportError\u001b[39;00m(\u001b[38;5;124m\"\u001b[39m\u001b[38;5;124mmicro tvm is not enabled. Set USE_MICRO to ON in config.cmake\u001b[39m\u001b[38;5;124m\"\u001b[39m)\n\u001b[1;32m     45\u001b[0m \u001b[38;5;129m@register_error\u001b[39m\n\u001b[1;32m     46\u001b[0m \u001b[38;5;28;01mclass\u001b[39;00m \u001b[38;5;21;01mSessionTerminatedError\u001b[39;00m(\u001b[38;5;167;01mException\u001b[39;00m):\n\u001b[1;32m     47\u001b[0m     \u001b[38;5;124;03m\"\"\"Raised when a transport read operation discovers that the remote session is terminated.\"\"\"\u001b[39;00m\n",
      "\u001b[0;31mImportError\u001b[0m: micro tvm is not enabled. Set USE_MICRO to ON in config.cmake"
     ]
    }
   ],
   "source": [
    "#Load model\n",
    "import onnx\n",
    "import numpy as np\n",
    "import tvm\n",
    "from tvm import te\n",
    "import tvm.relay as relay\n",
    "import tvm.micro\n",
    "import tvm.contrib.utils\n",
    "from tvm.micro import export_model_library_format\n",
    "\n",
    "onnx_model = onnx.load(\"simple_model_5_3.onnx\")"
   ]
  },
  {
   "cell_type": "code",
   "execution_count": 7,
   "metadata": {},
   "outputs": [
    {
     "ename": "AttributeError",
     "evalue": "module 'tvm' has no attribute 'micro'",
     "output_type": "error",
     "traceback": [
      "\u001b[0;31m---------------------------------------------------------------------------\u001b[0m",
      "\u001b[0;31mAttributeError\u001b[0m                            Traceback (most recent call last)",
      "Cell \u001b[0;32mIn[7], line 2\u001b[0m\n\u001b[1;32m      1\u001b[0m RUNTIME \u001b[38;5;241m=\u001b[39m tvm\u001b[38;5;241m.\u001b[39mrelay\u001b[38;5;241m.\u001b[39mbackend\u001b[38;5;241m.\u001b[39mRuntime(\u001b[38;5;124m\"\u001b[39m\u001b[38;5;124mcrt\u001b[39m\u001b[38;5;124m\"\u001b[39m, {\u001b[38;5;124m\"\u001b[39m\u001b[38;5;124msystem-lib\u001b[39m\u001b[38;5;124m\"\u001b[39m: \u001b[38;5;28;01mTrue\u001b[39;00m})\n\u001b[0;32m----> 2\u001b[0m TARGET \u001b[38;5;241m=\u001b[39m \u001b[43mtvm\u001b[49m\u001b[38;5;241;43m.\u001b[39;49m\u001b[43mmicro\u001b[49m\u001b[38;5;241m.\u001b[39mtesting\u001b[38;5;241m.\u001b[39mget_target(\u001b[38;5;124m\"\u001b[39m\u001b[38;5;124mcrt\u001b[39m\u001b[38;5;124m\"\u001b[39m)\n\u001b[1;32m      4\u001b[0m input_name \u001b[38;5;241m=\u001b[39m \u001b[38;5;124m\"\u001b[39m\u001b[38;5;124mx\u001b[39m\u001b[38;5;124m\"\u001b[39m\n\u001b[1;32m      5\u001b[0m shape_dict \u001b[38;5;241m=\u001b[39m {\u001b[38;5;124m\"\u001b[39m\u001b[38;5;124mx\u001b[39m\u001b[38;5;124m\"\u001b[39m: (\u001b[38;5;241m5\u001b[39m,)}\n",
      "\u001b[0;31mAttributeError\u001b[0m: module 'tvm' has no attribute 'micro'"
     ]
    }
   ],
   "source": [
    "RUNTIME = tvm.relay.backend.Runtime(\"crt\", {\"system-lib\": True})\n",
    "TARGET = tvm.micro.testing.get_target(\"crt\")\n",
    "\n",
    "input_name = \"x\"\n",
    "shape_dict = {\"x\": (5,)}\n",
    "mod, params = relay.frontend.from_onnx(onnx_model, shape_dict)\n",
    "\n",
    "with tvm.transform.PassContext(opt_level=3, config={\"tir.disable_vectorize\": True}):\n",
    "    module = relay.build(mod, target=TARGET, runtime=RUNTIME, params=params)"
   ]
  },
  {
   "cell_type": "code",
   "execution_count": null,
   "metadata": {},
   "outputs": [],
   "source": []
  }
 ],
 "metadata": {
  "kernelspec": {
   "display_name": "Python 3",
   "language": "python",
   "name": "python3"
  },
  "language_info": {
   "codemirror_mode": {
    "name": "ipython",
    "version": 3
   },
   "file_extension": ".py",
   "mimetype": "text/x-python",
   "name": "python",
   "nbconvert_exporter": "python",
   "pygments_lexer": "ipython3",
   "version": "3.10.12"
  }
 },
 "nbformat": 4,
 "nbformat_minor": 2
}
